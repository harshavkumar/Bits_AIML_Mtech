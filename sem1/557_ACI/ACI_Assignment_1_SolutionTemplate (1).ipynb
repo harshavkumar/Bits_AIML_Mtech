{
  "cells": [
    {
      "cell_type": "markdown",
      "metadata": {
        "id": "MzZ4dJQYF7sH"
      },
      "source": [
        "# Artificial and Computational Intelligence Assignment 1"
      ]
    },
    {
      "cell_type": "markdown",
      "metadata": {
        "id": "Fxb1aE9zF7sK"
      },
      "source": [
        "## Problem solving by Uninformed & Informed Search"
      ]
    },
    {
      "cell_type": "markdown",
      "metadata": {
        "id": "h35jIBbCF7sK"
      },
      "source": [
        "List only the BITS (Name) of active contributors in this assignment:\n",
        "1. ___________________\n",
        "2. __________________\n",
        "3. ____________________\n",
        "4. ___________________\n",
        "5. ___________________"
      ]
    },
    {
      "cell_type": "markdown",
      "metadata": {
        "id": "pt5ygv_zF7sL"
      },
      "source": [
        "Things to follow\n",
        "1.\tUse appropriate data structures to represent the graph and the path using python libraries\n",
        "2.\tProvide proper documentation\n",
        "3.\tFind the path and print it"
      ]
    },
    {
      "cell_type": "markdown",
      "metadata": {
        "id": "wZfop5ElF7sL"
      },
      "source": [
        "Coding begins here"
      ]
    },
    {
      "cell_type": "markdown",
      "metadata": {
        "id": "IL0QDMy3F7sL"
      },
      "source": [
        "### 1.\tDefine the environment in the following block"
      ]
    },
    {
      "cell_type": "markdown",
      "metadata": {
        "id": "RYwJPNLIF7sM"
      },
      "source": [
        "List the PEAS decription of the problem here in this markdown block"
      ]
    },
    {
      "cell_type": "markdown",
      "metadata": {
        "id": "XJ3cHp1IF7sM"
      },
      "source": [
        "Design the agent as PSA Agent(Problem Solving Agent)\n",
        "Clear Initial data structures to define the graph and variable declarations is expected\n",
        "IMPORTATANT: Write distinct code block as below"
      ]
    },
    {
      "cell_type": "code",
      "source": [
        "#Code Block : Set Initial State (Must handle dynamic inputs)\n",
        "\n",
        "\n",
        "import random\n",
        "import numpy as np\n",
        "import heapq\n",
        "\n",
        "\n",
        "def heuristic(path, PoD, PoM):\n",
        "    return (1 + PoD) * (1 + PoM)\n",
        "\n",
        "\n",
        "def set_initial_state(terrain):\n",
        "    # Selecting random starting point for drone\n",
        "    initial_state = random.choice(list(terrain.keys()))\n",
        "    return initial_state"
      ],
      "metadata": {
        "id": "8bitbzjEhfEr"
      },
      "execution_count": 10,
      "outputs": []
    },
    {
      "cell_type": "code",
      "execution_count": 11,
      "metadata": {
        "id": "XODwoWZ0F7sO"
      },
      "outputs": [],
      "source": [
        "#Code Block : Set the matrix for transition & cost (as relevant for the given problem)\n",
        "\n",
        "def set_transition_and_cost_matrices(terrain, PoM):\n",
        "    # Converting node labels to integers for indexing\n",
        "    node_to_int = {node: i for i, node in enumerate(terrain.keys())}\n",
        "    num_nodes = len(terrain)\n",
        "\n",
        "    # Creating a transition matrix based on the adjacency list terrain representation\n",
        "    transition_matrix = np.zeros((num_nodes, num_nodes))\n",
        "\n",
        "    for node, neighbors in terrain.items():\n",
        "        node_index = node_to_int[node]\n",
        "        total_neighbors = len(neighbors)\n",
        "        for neighbor in neighbors:\n",
        "            neighbor_index = node_to_int[neighbor]\n",
        "            transition_matrix[node_index][neighbor_index] = 1.0 / total_neighbors\n",
        "\n",
        "    # Creating the cost matrix based on probability of radar presence (PoM)\n",
        "    cost_matrix = np.full((num_nodes, num_nodes), PoM)\n",
        "\n",
        "    return transition_matrix, cost_matrix"
      ]
    },
    {
      "cell_type": "code",
      "execution_count": 12,
      "metadata": {
        "id": "ro24Gaj7F7sO"
      },
      "outputs": [],
      "source": [
        "#Code Block : Write function to design the Transition Model/Successor function. Ideally this would be called while search algorithms are implemented\n",
        "\n",
        "\n",
        "def successor_function(current_state, terrain, transition_matrix):\n",
        "    # Get the neighbors (successor states) of the current state based on the transition matrix\n",
        "    successors = []\n",
        "    for neighbor in terrain[current_state]:\n",
        "        # Use the transition probabilities from the transition matrix to determine the probability of moving to the neighbor\n",
        "        probability = transition_matrix[current_state][neighbor]\n",
        "        successors.append((neighbor, probability))\n",
        "\n",
        "    return successors\n",
        "\n",
        "def generate_successors(path, terrain):\n",
        "    # Simulate the drone's movement by generating possible successors for the current path\n",
        "    successors = []\n",
        "    for neighbor in terrain[path[-1]]:\n",
        "        successors.append(path + [neighbor])\n",
        "    return successors"
      ]
    },
    {
      "cell_type": "code",
      "execution_count": 13,
      "metadata": {
        "id": "HIVPhrRWF7sO"
      },
      "outputs": [],
      "source": [
        "#Code block : Write fucntion to handle goal test (Must handle dynamic inputs). Ideally this would be called while search algorithms are implemented\n",
        "\n",
        "def is_goal_state(current_state, destination):\n",
        "    # Checking if current state is same as destination\n",
        "    return current_state == destination"
      ]
    },
    {
      "cell_type": "markdown",
      "metadata": {
        "id": "Z4QwDeX5F7sO"
      },
      "source": [
        "### 2.\tDefinition of Algorithm 1 (Local Beam Search)"
      ]
    },
    {
      "cell_type": "code",
      "execution_count": 14,
      "metadata": {
        "id": "zD_EPCHWF7sO"
      },
      "outputs": [],
      "source": [
        "#Code Block : Function for algorithm 1 implementation\n",
        "\n",
        "def local_beam_search(k, terrain, PoD, PoM, num_iterations):\n",
        "    # Creating k beams of random paths.\n",
        "    beams = [[random.choice(list(terrain.keys()))] for _ in range(k)]\n",
        "\n",
        "    for _ in range(num_iterations):\n",
        "        successors = []\n",
        "        for path in beams:\n",
        "            successors.extend(generate_successors(path, terrain))\n",
        "\n",
        "        # Analyze each successor's heuristic value.\n",
        "        successors_with_h = [(successor, heuristic(successor, PoD, PoM)) for successor in successors]\n",
        "        # The top k successors are chosen to act as new beams after the successors are sorted by heuristic value.\n",
        "        beams = [path for path, h in sorted(successors_with_h, key=lambda x: x[1])[:k]]\n",
        "\n",
        "    return beams"
      ]
    },
    {
      "cell_type": "markdown",
      "metadata": {
        "id": "KnbdDl6HF7sO"
      },
      "source": [
        "### 3.\tDefinition of Algorithm 2 (A* Search)"
      ]
    },
    {
      "cell_type": "code",
      "execution_count": 15,
      "metadata": {
        "id": "3HYh7-eJF7sP"
      },
      "outputs": [],
      "source": [
        "#Code Block : Function for algorithm 2 implementation\n",
        "\n",
        "def a_star_search(terrain, PoD, PoM, start, goal):\n",
        "    #Priority queue (heap) A* search\n",
        "    frontier = [(0, start)]\n",
        "    explored = set()\n",
        "    g = {start: 0}\n",
        "    parents = {start: None}\n",
        "\n",
        "    while frontier:\n",
        "        _, current = heapq.heappop(frontier)\n",
        "\n",
        "        if current == goal:\n",
        "            # Reconstruct the path from start to goal\n",
        "            path = [current]\n",
        "            while parents[current] is not None:\n",
        "                current = parents[current]\n",
        "                path.append(current)\n",
        "            return list(reversed(path))\n",
        "\n",
        "        explored.add(current)\n",
        "\n",
        "        for neighbor in terrain[current]:\n",
        "            cost = heuristic([neighbor], PoD, PoM)\n",
        "            new_g = g[current] + cost\n",
        "\n",
        "            if neighbor not in g or new_g < g[neighbor]:\n",
        "                g[neighbor] = new_g\n",
        "                f = new_g + heuristic([neighbor], PoD, PoM)\n",
        "                heapq.heappush(frontier, (f, neighbor))\n",
        "                parents[neighbor] = current\n",
        "\n",
        "    return None"
      ]
    },
    {
      "cell_type": "markdown",
      "metadata": {
        "id": "LEV2XHccF7sP"
      },
      "source": [
        "### DYNAMIC INPUT"
      ]
    },
    {
      "cell_type": "markdown",
      "metadata": {
        "id": "CylYRo_DF7sP"
      },
      "source": [
        "IMPORTANT : Dynamic Input must be got in this section. Display the possible states to choose from:\n",
        "This is applicable for all the relevent problems as mentioned in the question."
      ]
    },
    {
      "cell_type": "code",
      "execution_count": 16,
      "metadata": {
        "id": "Q5t1Lc-wF7sP",
        "colab": {
          "base_uri": "https://localhost:8080/"
        },
        "outputId": "c2491534-fdbe-49da-de8f-057434e26893"
      },
      "outputs": [
        {
          "name": "stdout",
          "output_type": "stream",
          "text": [
            "Enter the start state (current location): A\n",
            "Enter the goal state (destination): G\n"
          ]
        }
      ],
      "source": [
        "#Code Block : Function & call to get inputs (start/end state)\n",
        "\n",
        "\n",
        "def get_user_inputs():\n",
        "    # to get user input on start state and end state\n",
        "    start = input(\"Enter the start state (current location): \")\n",
        "    goal = input(\"Enter the goal state (destination): \")\n",
        "    return start, goal\n",
        "\n",
        "# Sample terrain as an adjacency list representation of the maze\n",
        "terrain = {\n",
        "    'A': ['B', 'C'],\n",
        "    'B': ['A', 'D'],\n",
        "    'C': ['A', 'D'],\n",
        "    'D': ['B', 'C', 'E'],\n",
        "    'E': ['D', 'F'],\n",
        "    'F': ['E', 'G'],\n",
        "    'G': ['F']\n",
        "}\n",
        "\n",
        "# (land terrain – the probability of detection (PoD), drone (probability of radar (PoM)\n",
        "PoD = 0.8\n",
        "PoM = 0.2\n",
        "k = 3\n",
        "num_iterations = 10\n",
        "\n",
        "n = len(terrain)\n",
        "N = n  # worst case scenario (time-complexity)\n",
        "\n",
        "\n",
        "# user inputs for start state and end state\n",
        "start, goal = get_user_inputs()\n",
        "\n",
        "# initialize initial state\n",
        "initial_state = start\n",
        "\n",
        "# Setting up transition and cost matrices\n",
        "transition_matrix, cost_matrix = set_transition_and_cost_matrices(terrain, PoM)\n"
      ]
    },
    {
      "cell_type": "markdown",
      "metadata": {
        "id": "xsfOP81lF7sP"
      },
      "source": [
        "### 4.\tCalling the search algorithms\n",
        "(For bidirectional search in below sections first part can be used as per Hint provided. Under second section other combinations as per Hint or your choice of 2 algorithms can be called .As an analyst suggest suitable approximation in the comparitive analysis section)"
      ]
    },
    {
      "cell_type": "code",
      "execution_count": 17,
      "metadata": {
        "id": "Og5zI9thF7sP",
        "colab": {
          "base_uri": "https://localhost:8080/"
        },
        "outputId": "fdae3dee-0496-47ba-8d8c-ca210adc1ab5"
      },
      "outputs": [
        {
          "output_type": "stream",
          "name": "stdout",
          "text": [
            "\n",
            "------- Local Beam Search Results -------\n",
            "Beam 1: Path ['C', 'A', 'B', 'A', 'B', 'A', 'B', 'A', 'B', 'A', 'B'] (Cost: 2.16)\n",
            "Beam 2: Path ['C', 'A', 'B', 'A', 'B', 'A', 'B', 'A', 'B', 'A', 'C'] (Cost: 2.16)\n",
            "Beam 3: Path ['C', 'A', 'B', 'A', 'B', 'A', 'B', 'A', 'B', 'D', 'B'] (Cost: 2.16)\n"
          ]
        }
      ],
      "source": [
        "#Invoke algorithm 1 (Should Print the solution, path, cost etc., (As mentioned in the problem))\n",
        "\n",
        "# Local Beam Search to find best paths\n",
        "best_paths = local_beam_search(k, terrain, PoD, PoM, num_iterations)\n",
        "\n",
        "print(\"\\n---- Local Beam Search Results -----\")\n",
        "for i, path in enumerate(best_paths):\n",
        "    total_cost = heuristic(path, PoD, PoM)\n",
        "    print(f\"Beam {i + 1}: Path {path} (Cost: {total_cost})\")\n"
      ]
    },
    {
      "cell_type": "code",
      "execution_count": 18,
      "metadata": {
        "id": "u3MJeA6eF7sP",
        "colab": {
          "base_uri": "https://localhost:8080/"
        },
        "outputId": "776bf483-b343-41b4-b3c0-1c137a9083cc"
      },
      "outputs": [
        {
          "output_type": "stream",
          "name": "stdout",
          "text": [
            "\n",
            "------- A* Search Results -------\n",
            "Optimal Path: ['A', 'B', 'D', 'E', 'F', 'G'] (Total Cost: 2.16)\n"
          ]
        }
      ],
      "source": [
        "#Invoke algorithm 2 (Should Print the solution, path, cost etc., (As mentioned in the problem))\n",
        "\n",
        "\n",
        "# A* search to find optimal path\n",
        "optimal_path = a_star_search(terrain, PoD, PoM, start, goal)\n",
        "\n",
        "print(\"\\n------- A* Search Results -------\")\n",
        "if optimal_path:\n",
        "    total_cost = heuristic(optimal_path, PoD, PoM)\n",
        "    print(f\"Optimal Path: {optimal_path} (Total Cost: {total_cost})\")\n",
        "else:\n",
        "    print(\"Goal could not be reached. No path found.\")"
      ]
    },
    {
      "cell_type": "markdown",
      "metadata": {
        "id": "TOU3Rem6F7sQ"
      },
      "source": [
        "### 5.\tComparitive Analysis"
      ]
    },
    {
      "cell_type": "code",
      "execution_count": 23,
      "metadata": {
        "id": "HG6fWwiIF7sQ",
        "colab": {
          "base_uri": "https://localhost:8080/"
        },
        "outputId": "56fe0940-6aac-448c-9179-cfd93e044e87"
      },
      "outputs": [
        {
          "output_type": "stream",
          "name": "stdout",
          "text": [
            "Time Complexity of Local Beam Search: O(639.3497119219188)\n",
            "Local Beam Search Space Complexity: O(158.1953125)\n"
          ]
        }
      ],
      "source": [
        "#Code Block : Print the Time & Space complexity of algorithm 1\n",
        "\n",
        "def calculate_time_complexity_local_beam_search(num_iterations, k, n):\n",
        "    # Time complexity for Local Beam Search\n",
        "    time_complexity = num_iterations * k * n * np.log(k * n)\n",
        "\n",
        "    # Space complexity for Local Beam Search\n",
        "    space_complexity = k * n\n",
        "\n",
        "    return time_complexity, space_complexity\n",
        "\n",
        "local_beam_search_time, space_complexity = calculate_time_complexity_local_beam_search(num_iterations, k, n)\n",
        "print(f\"Time Complexity of Local Beam Search: O({local_beam_search_time})\")\n",
        "print(f\"Local Beam Search Space Complexity: O({local_beam_search_space})\")\n",
        ""
      ]
    },
    {
      "cell_type": "code",
      "execution_count": 24,
      "metadata": {
        "id": "xMButLKCF7sQ",
        "colab": {
          "base_uri": "https://localhost:8080/"
        },
        "outputId": "194526ff-21ff-4a77-bb94-3dbffaed742e"
      },
      "outputs": [
        {
          "output_type": "stream",
          "name": "stdout",
          "text": [
            "Time Complexity of A* Search: O(13.621371043387192)\n",
            "A* Search Space Complexity: O(7)\n"
          ]
        }
      ],
      "source": [
        "#Code Block : Print the Time & Space complexity of algorithm 2\n",
        "\n",
        "def calculate_time_complexity_a_star_search(n, N):\n",
        "    # Time complexity for A* Search\n",
        "    time_complexity = n * np.log(N)\n",
        "\n",
        "    # Space complexity for A* Search\n",
        "    space_complexity = N\n",
        "\n",
        "    return time_complexity, space_complexity\n",
        "\n",
        "a_star_search_time, space_complexity = calculate_time_complexity_a_star_search(n, N)\n",
        "print(f\"Time Complexity of A* Search: O({a_star_search_time})\")\n",
        "print(f\"A* Search Space Complexity: O({space_complexity})\")"
      ]
    },
    {
      "cell_type": "markdown",
      "metadata": {
        "id": "y2nXwAlsF7sQ"
      },
      "source": [
        "### 6.\tProvide your comparitive analysis or findings in no more than 3 lines in below section"
      ]
    },
    {
      "cell_type": "markdown",
      "metadata": {
        "id": "si483-zoF7sQ"
      },
      "source": [
        "Comparison : _______________________________________________\n",
        "\n",
        "________________________________________________________\n",
        "\n",
        "_________________________________________________________"
      ]
    }
  ],
  "metadata": {
    "kernelspec": {
      "display_name": "Python 3",
      "language": "python",
      "name": "python3"
    },
    "language_info": {
      "codemirror_mode": {
        "name": "ipython",
        "version": 3
      },
      "file_extension": ".py",
      "mimetype": "text/x-python",
      "name": "python",
      "nbconvert_exporter": "python",
      "pygments_lexer": "ipython3",
      "version": "3.7.6"
    },
    "colab": {
      "provenance": []
    }
  },
  "nbformat": 4,
  "nbformat_minor": 0
}